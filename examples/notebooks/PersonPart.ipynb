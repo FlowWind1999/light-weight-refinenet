{
 "cells": [
  {
   "cell_type": "markdown",
   "metadata": {},
   "source": [
    "# PASCAL Person Part - Light-Weight Refinenet\n",
    "\n",
    "## 6 semantic classes + background\n",
    "\n",
    "### Light-Weight RefineNet based on ResNet-50/101/152"
   ]
  },
  {
   "cell_type": "code",
   "execution_count": 2,
   "metadata": {},
   "outputs": [],
   "source": [
    "import six\n",
    "import sys\n",
    "sys.path.append('../../')\n",
    "import torch\n",
    "import glob\n",
    "\n",
    "import numpy as np\n",
    "\n",
    "\n",
    "from models.resnet import rf_lw50, rf_lw101, rf_lw152"
   ]
  },
  {
   "cell_type": "code",
   "execution_count": 3,
   "metadata": {},
   "outputs": [],
   "source": [
    "from utils.helpers import prepare_img"
   ]
  },
  {
   "cell_type": "code",
   "execution_count": 4,
   "metadata": {},
   "outputs": [],
   "source": [
    "cmap = np.load('../../utils/cmap.npy')\n",
    "has_cuda = torch.cuda.is_available()\n",
    "img_dir = '../imgs/Person/'\n",
    "imgs = glob.glob('{}*.jpg'.format(img_dir))\n",
    "n_classes = 7"
   ]
  },
  {
   "cell_type": "code",
   "execution_count": 5,
   "metadata": {},
   "outputs": [],
   "source": [
    "# Initialise models\n",
    "model_inits = { \n",
    "    'rf_lw50_person'   : rf_lw50, # key / constructor\n",
    "    'rf_lw101_person'  : rf_lw101,\n",
    "    'rf_lw152_person'  : rf_lw152,\n",
    "    }\n",
    "\n",
    "models = dict()\n",
    "for key,fun in six.iteritems(model_inits):\n",
    "    net = fun(n_classes, pretrained=True).eval()\n",
    "    if has_cuda:\n",
    "        net = net.cuda()\n",
    "    models[key] = net"
   ]
  },
  {
   "cell_type": "code",
   "execution_count": 6,
   "metadata": {},
   "outputs": [
    {
     "ename": "ModuleNotFoundError",
     "evalue": "No module named 'cv2'",
     "output_type": "error",
     "traceback": [
      "\u001b[1;31m---------------------------------------------------------------------------\u001b[0m",
      "\u001b[1;31mModuleNotFoundError\u001b[0m                       Traceback (most recent call last)",
      "\u001b[1;32m<ipython-input-6-567b0c611125>\u001b[0m in \u001b[0;36m<module>\u001b[1;34m\u001b[0m\n\u001b[0;32m      3\u001b[0m \u001b[1;32mimport\u001b[0m \u001b[0mglob\u001b[0m\u001b[1;33m\u001b[0m\u001b[1;33m\u001b[0m\u001b[0m\n\u001b[0;32m      4\u001b[0m \u001b[1;33m\u001b[0m\u001b[0m\n\u001b[1;32m----> 5\u001b[1;33m \u001b[1;32mimport\u001b[0m \u001b[0mcv2\u001b[0m\u001b[1;33m\u001b[0m\u001b[1;33m\u001b[0m\u001b[0m\n\u001b[0m\u001b[0;32m      6\u001b[0m \u001b[1;32mimport\u001b[0m \u001b[0mmatplotlib\u001b[0m\u001b[1;33m.\u001b[0m\u001b[0mpyplot\u001b[0m \u001b[1;32mas\u001b[0m \u001b[0mplt\u001b[0m\u001b[1;33m\u001b[0m\u001b[1;33m\u001b[0m\u001b[0m\n\u001b[0;32m      7\u001b[0m \u001b[1;32mimport\u001b[0m \u001b[0mnumpy\u001b[0m \u001b[1;32mas\u001b[0m \u001b[0mnp\u001b[0m\u001b[1;33m\u001b[0m\u001b[1;33m\u001b[0m\u001b[0m\n",
      "\u001b[1;31mModuleNotFoundError\u001b[0m: No module named 'cv2'"
     ]
    }
   ],
   "source": [
    "%matplotlib inline\n",
    "\n",
    "import glob\n",
    "\n",
    "import cv2\n",
    "import matplotlib.pyplot as plt\n",
    "import numpy as np\n",
    "import torch\n",
    "\n",
    "from PIL import Image"
   ]
  },
  {
   "cell_type": "code",
   "execution_count": 7,
   "metadata": {},
   "outputs": [
    {
     "ename": "NameError",
     "evalue": "name 'plt' is not defined",
     "output_type": "error",
     "traceback": [
      "\u001b[1;31m---------------------------------------------------------------------------\u001b[0m",
      "\u001b[1;31mNameError\u001b[0m                                 Traceback (most recent call last)",
      "\u001b[1;32m<ipython-input-7-31e3ba9c8855>\u001b[0m in \u001b[0;36m<module>\u001b[1;34m\u001b[0m\n\u001b[0;32m      3\u001b[0m \u001b[0mn_rows\u001b[0m \u001b[1;33m=\u001b[0m \u001b[0mlen\u001b[0m\u001b[1;33m(\u001b[0m\u001b[0mimgs\u001b[0m\u001b[1;33m)\u001b[0m\u001b[1;33m\u001b[0m\u001b[1;33m\u001b[0m\u001b[0m\n\u001b[0;32m      4\u001b[0m \u001b[1;33m\u001b[0m\u001b[0m\n\u001b[1;32m----> 5\u001b[1;33m \u001b[0mplt\u001b[0m\u001b[1;33m.\u001b[0m\u001b[0mfigure\u001b[0m\u001b[1;33m(\u001b[0m\u001b[0mfigsize\u001b[0m\u001b[1;33m=\u001b[0m\u001b[1;33m(\u001b[0m\u001b[1;36m16\u001b[0m\u001b[1;33m,\u001b[0m \u001b[1;36m12\u001b[0m\u001b[1;33m)\u001b[0m\u001b[1;33m)\u001b[0m\u001b[1;33m\u001b[0m\u001b[1;33m\u001b[0m\u001b[0m\n\u001b[0m\u001b[0;32m      6\u001b[0m \u001b[0midx\u001b[0m \u001b[1;33m=\u001b[0m \u001b[1;36m1\u001b[0m\u001b[1;33m\u001b[0m\u001b[1;33m\u001b[0m\u001b[0m\n\u001b[0;32m      7\u001b[0m \u001b[1;33m\u001b[0m\u001b[0m\n",
      "\u001b[1;31mNameError\u001b[0m: name 'plt' is not defined"
     ]
    }
   ],
   "source": [
    "# Figure 3 from the supplementary\n",
    "n_cols = len(models) + 2 # 1 - for image, 1 - for GT\n",
    "n_rows = len(imgs)\n",
    "\n",
    "plt.figure(figsize=(16, 12))\n",
    "idx = 1\n",
    "\n",
    "with torch.no_grad():\n",
    "    for img_path in imgs:\n",
    "        img = np.array(Image.open(img_path))\n",
    "        msk = cmap[np.array(Image.open(img_path.replace('jpg', 'png')))]\n",
    "        orig_size = img.shape[:2][::-1]\n",
    "        \n",
    "        img_inp = torch.tensor(prepare_img(img).transpose(2, 0, 1)[None]).float()\n",
    "        if has_cuda:\n",
    "            img_inp = img_inp.cuda()\n",
    "        \n",
    "        plt.subplot(n_rows, n_cols, idx)\n",
    "        plt.imshow(img)\n",
    "        plt.title('img')\n",
    "        plt.axis('off')\n",
    "        idx += 1\n",
    "        \n",
    "        plt.subplot(n_rows, n_cols, idx)\n",
    "        plt.imshow(msk)\n",
    "        plt.title('gt')\n",
    "        plt.axis('off')\n",
    "        idx += 1\n",
    "        \n",
    "        for mname, mnet in six.iteritems(models):\n",
    "            segm = mnet(img_inp)[0].data.cpu().numpy().transpose(1, 2, 0)\n",
    "            segm = cv2.resize(segm, orig_size, interpolation=cv2.INTER_CUBIC)\n",
    "            segm = cmap[segm.argmax(axis=2).astype(np.uint8)]\n",
    "            \n",
    "            plt.subplot(n_rows, n_cols, idx)\n",
    "            plt.imshow(segm)\n",
    "            plt.title(mname)\n",
    "            plt.axis('off')\n",
    "            idx += 1"
   ]
  },
  {
   "cell_type": "code",
   "execution_count": null,
   "metadata": {},
   "outputs": [],
   "source": []
  },
  {
   "cell_type": "code",
   "execution_count": 7,
   "metadata": {
    "collapsed": true
   },
   "outputs": [],
   "source": []
  },
  {
   "cell_type": "code",
   "execution_count": 7,
   "metadata": {},
   "outputs": [],
   "source": []
  },
  {
   "cell_type": "code",
   "execution_count": null,
   "metadata": {},
   "outputs": [],
   "source": []
  }
 ],
 "metadata": {
  "kernelspec": {
   "display_name": "Python 3",
   "language": "python",
   "name": "python3"
  },
  "language_info": {
   "codemirror_mode": {
    "name": "ipython",
    "version": 3
   },
   "file_extension": ".py",
   "mimetype": "text/x-python",
   "name": "python",
   "nbconvert_exporter": "python",
   "pygments_lexer": "ipython3",
   "version": "3.6.2"
  }
 },
 "nbformat": 4,
 "nbformat_minor": 2
}
